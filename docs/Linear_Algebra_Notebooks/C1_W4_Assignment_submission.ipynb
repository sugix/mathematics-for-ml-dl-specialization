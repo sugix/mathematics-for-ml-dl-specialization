{
 "cells": [
  {
   "cell_type": "markdown",
   "metadata": {
    "id": "EAt-K2qgcIou"
   },
   "source": [
    "#  Eigenvalues and Eigenvectors"
   ]
  },
  {
   "cell_type": "markdown",
   "metadata": {
    "id": "FZYK-0rin5x7"
   },
   "source": [
    "Welcome to the last assignment of this Course. You will practice finding eigenvalues and eigenvectors for various linear transformations and use it in one of the applications.\n",
    "\n",
    "**After this assignment you will be able to:**\n",
    "- use Python to find eigenvalues and eigenvectors\n",
    "- visualize and interpret eigenvalues and eigenvectos\n",
    "- apply linear transformations, eigenvalues and eigenvectors in a webpage navigation model"
   ]
  },
  {
   "cell_type": "markdown",
   "metadata": {},
   "source": [
    "# Table of Contents\n",
    "- [ 1 - Eigenvalues and Eigenvectors: Definition and Interpretation](#1)\n",
    "  - [ 1.1 - Definition of Eigenvalues and Eigenvectors](#1.1)\n",
    "  - [ 1.2 - Finding Eigenvalues and Eigenvectors with Python](#1.2)\n",
    "- [ 2 - Eigenvalues and Eigenvectors of the Standard Transformations in a Plane](#2)\n",
    "  - [ 2.1 - Example 1: Reflection about y-axis (the vertical axis)](#2.1)\n",
    "    - [ Exercise 1](#ex01)\n",
    "  - [ 2.2 - Example 2: Shear in x-direction](#2.2)\n",
    "    - [ Exercise 2](#ex02)\n",
    "  - [ 2.3 - Example 3: Rotation](#2.3)\n",
    "  - [ 2.4 - Example 4: Identity Matrix and Scaling in All Directions](#2.4)\n",
    "  - [ 2.5 - Example 5: Projection onto x-axis](#2.5)\n",
    "- [ 3 - Application of Eigenvalues and Eigenvectors: Navigating Webpages](#3)\n",
    "  - [ Exercise 3](#ex03)\n",
    "  - [ Exercise 4](#ex04)"
   ]
  },
  {
   "cell_type": "markdown",
   "metadata": {
    "id": "XI8PBrk_2Z4V"
   },
   "source": [
    "## Packages\n",
    "\n",
    "Run the following cell to load the packages you'll need."
   ]
  },
  {
   "cell_type": "code",
   "execution_count": 1,
   "metadata": {
    "tags": [
     "graded"
    ]
   },
   "outputs": [],
   "source": [
    "import numpy as np\n",
    "import matplotlib.pyplot as plt"
   ]
  },
  {
   "cell_type": "markdown",
   "metadata": {},
   "source": [
    "Load the unit tests defined for this notebook."
   ]
  },
  {
   "cell_type": "code",
   "execution_count": 2,
   "metadata": {},
   "outputs": [],
   "source": [
    "import w4_unittest"
   ]
  },
  {
   "cell_type": "markdown",
   "metadata": {},
   "source": [
    "<a name='1'></a>\n",
    "## 1 - Eigenvalues and Eigenvectors: Definition and Interpretation\n",
    "\n",
    "<a name='1.1'></a>\n",
    "### 1.1 - Definition of Eigenvalues and Eigenvectors\n",
    "\n",
    "Let's consider a linear transformation defined by matrix $A=\\begin{bmatrix}2 & 3 \\\\ 2 & 1 \\end{bmatrix}$. Apply this transformation to the standard basis vectors $e_1=\\begin{bmatrix}1 \\\\ 0\\end{bmatrix}$ and $e_2=\\begin{bmatrix}0 \\\\ 1\\end{bmatrix}$ and visualize the result (this was covered in details in the previous labs of this Course):"
   ]
  },
  {
   "cell_type": "code",
   "execution_count": 3,
   "metadata": {
    "tags": [
     "graded"
    ]
   },
   "outputs": [],
   "source": [
    "A = np.array([[2, 3],[2, 1]])\n",
    "e1 = np.array([[1],[0]])\n",
    "e2 = np.array([[0],[1]])"
   ]
  },
  {
   "cell_type": "code",
   "execution_count": 4,
   "metadata": {
    "tags": [
     "graded"
    ]
   },
   "outputs": [
    {
     "data": {
      "image/png": "[encoded data removed]",
      "text/plain": [
       "<Figure size 504x504 with 1 Axes>"
      ]
     },
     "metadata": {
      "needs_background": "light"
     },
     "output_type": "display_data"
    }
   ],
   "source": [
    "def plot_transformation(T,v1,v2):\n",
    "    color_original = \"#129cab\"\n",
    "    color_transformed = \"#cc8933\"\n",
    "    \n",
    "    _, ax = plt.subplots(figsize=(7, 7))\n",
    "    ax.tick_params(axis='x', labelsize=14)\n",
    "    ax.tick_params(axis='y', labelsize=14)\n",
    "    ax.set_xticks(np.arange(-6, 6))\n",
    "    ax.set_yticks(np.arange(-6, 6))\n",
    "    \n",
    "    plt.axis([-6, 6, -6, 6])\n",
    "    plt.quiver([0, 0],[0, 0], [v1[0], v2[0]], [v1[1], v2[1]], color=color_original, angles='xy', scale_units='xy', scale=1)\n",
    "    plt.plot([0,v2[0],v1[0]+v2[0],v1[0]], \n",
    "        [0,v2[1],v1[1]+v2[1],v1[1]], \n",
    "        color=color_original)\n",
    "    v1_sgn = 0.4 * np.array([[1] if i==0 else [i] for i in np.sign(v1)])\n",
    "    ax.text(v1[0]-0.2+v1_sgn[0], v1[1]-0.2+v1_sgn[1], f'$v_1$', fontsize=14, color=color_original)\n",
    "    v2_sgn = 0.4 * np.array([[1] if i==0 else [i] for i in np.sign(v2)])\n",
    "    ax.text(v2[0]-0.2+v2_sgn[0], v2[1]-0.2+v2_sgn[1], f'$v_2$', fontsize=14, color=color_original)\n",
    "    \n",
    "    v1_transformed = T @ v1\n",
    "    v2_transformed = T @ v2\n",
    "    \n",
    "    plt.quiver([0, 0],[0, 0], [v1_transformed[0], v2_transformed[0]], [v1_transformed[1], v2_transformed[1]], \n",
    "               color=color_transformed, angles='xy', scale_units='xy', scale=1)\n",
    "    plt.plot([0,v2_transformed[0],v1_transformed[0]+v2_transformed[0],v1_transformed[0]], \n",
    "             [0,v2_transformed[1],v1_transformed[1]+v2_transformed[1],v1_transformed[1]], \n",
    "             color=color_transformed)\n",
    "    v1_transformed_sgn = 0.4 * np.array([[1] if i==0 else [i] for i in np.sign(v1_transformed)])\n",
    "    ax.text(v1_transformed[0]-0.2+v1_transformed_sgn[0], v1_transformed[1]-v1_transformed_sgn[1], \n",
    "            f'$T(v_1)$', fontsize=14, color=color_transformed)\n",
    "    v2_transformed_sgn = 0.4 * np.array([[1] if i==0 else [i] for i in np.sign(v2_transformed)])\n",
    "    ax.text(v2_transformed[0]-0.2+v2_transformed_sgn[0], v2_transformed[1]-v2_transformed_sgn[1], \n",
    "            f'$T(v_2)$', fontsize=14, color=color_transformed)\n",
    "    \n",
    "    \n",
    "    plt.gca().set_aspect(\"equal\")\n",
    "    plt.show()\n",
    "    \n",
    "plot_transformation(A, e1, e2)"
   ]
  },
  {
   "cell_type": "markdown",
   "metadata": {},
   "source": [
    "Both of the original basis vectors $e_1$ and $e_2$ (shown as $v_1$ and $v_2$ on the plot) changed their length and direction with the transformation $A$. What if you can choose some other basis vectors, where only their length will change? For the vector $v$, its transformation will be $Av=\\lambda v$. Vector $v$ will be called **eigenvector** and scaling factor $\\lambda$ will be called **eigenvalue**.\n",
    "\n",
    "Note, that if $v$ is an eigenvector, so that $Av = \\lambda v$, then any vector $kv$ ($k\\in\\mathbb{R}, k\\neq 0$) is also an eigenvector with the same eigenvalue: $A(kv)=k(Av)=k \\lambda v = \\lambda (kv)$. Geometrically, in $\\mathbb{R}^2$ this means that there are infinitely many eigenvectors corresponding to one eigenvalue, they are on the same straight line. And usually just one can be chosen as an eigenvector. "
   ]
  },
  {
   "cell_type": "markdown",
   "metadata": {},
   "source": [
    "<a name='1.2'></a>\n",
    "### 1.2 - Finding Eigenvalues and Eigenvectors with Python"
   ]
  },
  {
   "cell_type": "markdown",
   "metadata": {},
   "source": [
    "In Python eigenvalues and eigenvectors can be found using the `NumPy` function `np.linalg.eig()`. It returns a tuple consisting of a vector and an array. The vector contains the eigenvalues. The array contains the corresponding eigenvectors, one eigenvector per column. The eigenvectors chosen are the normalized ones, so their norms are 1.\n",
    "\n",
    "With the following code you can find an eigenvalues and eigenvectors for the previously defined matrix $A$:"
   ]
  },
  {
   "cell_type": "code",
   "execution_count": 5,
   "metadata": {
    "tags": [
     "graded"
    ]
   },
   "outputs": [
    {
     "name": "stdout",
     "output_type": "stream",
     "text": [
      "Matrix A:\n",
      " [[2 3]\n",
      " [2 1]] \n",
      "\n",
      " Eigenvalues and eigenvectors of matrix A:\n",
      " (array([ 4., -1.]), array([[ 0.83205029, -0.70710678],\n",
      "       [ 0.5547002 ,  0.70710678]]))\n"
     ]
    }
   ],
   "source": [
    "A_eig = np.linalg.eig(A)\n",
    "\n",
    "print(\"Matrix A:\\n\", A, \"\\n\\n Eigenvalues and eigenvectors of matrix A:\\n\", A_eig)"
   ]
  },
  {
   "cell_type": "markdown",
   "metadata": {},
   "source": [
    "First eigenvector can be extrancted with the code `A_eig[1][:,0]` and second eigenvector with the code `A_eig[1][:,1]`. Let's visualize the result of the transformation:"
   ]
  },
  {
   "cell_type": "code",
   "execution_count": 6,
   "metadata": {
    "tags": [
     "graded"
    ]
   },
   "outputs": [
    {
     "data": {
      "image/png": "[encoded data removed]",
      "text/plain": [
       "<Figure size 504x504 with 1 Axes>"
      ]
     },
     "metadata": {
      "needs_background": "light"
     },
     "output_type": "display_data"
    }
   ],
   "source": [
    "plot_transformation(A, A_eig[1][:,0], A_eig[1][:,1])"
   ]
  },
  {
   "cell_type": "markdown",
   "metadata": {},
   "source": [
    "You can see that now that this linear transformation can be interpreted as a stretch in the direction of the eigenvector $v_1$ and change of the direction for the vector $v_2$."
   ]
  },
  {
   "cell_type": "markdown",
   "metadata": {},
   "source": [
    "<a name='2'></a>\n",
    "## 2 - Eigenvalues and Eigenvectors of the Standard Transformations in a Plane\n"
   ]
  },
  {
   "cell_type": "markdown",
   "metadata": {},
   "source": [
    "<a name='2.1'></a>\n",
    "### 2.1 - Example 1: Reflection about y-axis (the vertical axis)"
   ]
  },
  {
   "cell_type": "markdown",
   "metadata": {},
   "source": [
    "<a name='ex01'></a>\n",
    "### Exercise 1\n",
    "\n",
    "Complete matrix `A_reflection_yaxis`, which corresponds to the reflection about y-axis, and find its eigenvalues and eigenvectors. Visualize the result and investigate it. How would you interpret this linear transformation in terms of the eigenvectors and thier eigenvalues?"
   ]
  },
  {
   "cell_type": "code",
   "execution_count": 28,
   "metadata": {
    "scrolled": false,
    "tags": [
     "graded"
    ]
   },
   "outputs": [
    {
     "name": "stdout",
     "output_type": "stream",
     "text": [
      "Matrix A_reflection_yaxis:\n",
      " [[-1  0]\n",
      " [ 0  1]] \n",
      "\n",
      " Eigenvalues and eigenvectors of matrix A_reflection_yaxis:\n",
      " (array([-1.,  1.]), array([[1., 0.],\n",
      "       [0., 1.]]))\n"
     ]
    },
    {
     "data": {
      "image/png": "[encoded data removed]",
      "text/plain": [
       "<Figure size 504x504 with 1 Axes>"
      ]
     },
     "metadata": {
      "needs_background": "light"
     },
     "output_type": "display_data"
    }
   ],
   "source": [
    "### START CODE HERE ###\n",
    "# Define transformation matrix A_reflection_yaxis as a numpy array.\n",
    "A_reflection_yaxis = np.array([[-1,0],[0,1]])\n",
    "\n",
    "# Find eigenvalues and eigenvectors or matrix A_reflection_yaxis.\n",
    "A_reflection_yaxis_eig = np.linalg.eig(A_reflection_yaxis)\n",
    "### END CODE HERE ###\n",
    "\n",
    "print(\"Matrix A_reflection_yaxis:\\n\", A_reflection_yaxis, \n",
    "      \"\\n\\n Eigenvalues and eigenvectors of matrix A_reflection_yaxis:\\n\", A_reflection_yaxis_eig)\n",
    "plot_transformation(A_reflection_yaxis, A_reflection_yaxis_eig[1][:,0], A_reflection_yaxis_eig[1][:,1])"
   ]
  },
  {
   "cell_type": "code",
   "execution_count": 29,
   "metadata": {},
   "outputs": [
    {
     "name": "stdout",
     "output_type": "stream",
     "text": [
      "\u001b[92m All tests passed\n"
     ]
    }
   ],
   "source": [
    "# Test your solution.\n",
    "w4_unittest.test_A_reflection_yaxis(A_reflection_yaxis, A_reflection_yaxis_eig)"
   ]
  },
  {
   "cell_type": "markdown",
   "metadata": {},
   "source": [
    "It would be a natural question to ask, is it always possible to find two different eigenvectors for any linear transformation in $\\mathbb{R}^2$? Well, unfortunately not. You can see the following example."
   ]
  },
  {
   "cell_type": "markdown",
   "metadata": {},
   "source": [
    "<a name='2.2'></a>\n",
    "### 2.2 - Example 2: Shear in x-direction"
   ]
  },
  {
   "cell_type": "markdown",
   "metadata": {},
   "source": [
    "<a name='ex02'></a>\n",
    "### Exercise 2\n",
    "\n",
    "Complete matrix `A_shear_x`, which corresponds to the shear in x-direction with a scalar $0.5$. It can be visualized as: \n",
    "\n",
    "<img src = \"images/shear_transformation.png\" width=\"400\" align=\"center\"/>\n",
    "\n",
    "Find eigenvalues and eigenvectors of matrix `A_shear_x`. Visualize the transformation applied to the found eigenvectors.\n",
    "\n",
    "<details>    \n",
    "<summary>\n",
    "    <font size=\"3\" color=\"darkgreen\"><b>Hint</b></font>\n",
    "</summary>\n",
    "<p>\n",
    "<ul>\n",
    "    Vector $e_1=\\begin{bmatrix}1 \\\\ 0\\end{bmatrix}$ will remain the same, and vector $e_2=\\begin{bmatrix}0 \\\\ 1\\end{bmatrix}$ will transform into a vector $\\begin{bmatrix}0.5 \\\\ 1\\end{bmatrix}$.\n",
    "</ul>\n",
    "</p>"
   ]
  },
  {
   "cell_type": "code",
   "execution_count": 43,
   "metadata": {
    "scrolled": false,
    "tags": [
     "graded"
    ]
   },
   "outputs": [
    {
     "name": "stdout",
     "output_type": "stream",
     "text": [
      "Matrix A_shear_x:\n",
      " [[1.  0. ]\n",
      " [0.5 1. ]] \n",
      "\n",
      " Eigenvalues and eigenvectors of matrix A_shear_x:\n",
      " (array([-1.,  1.]), array([[1., 0.],\n",
      "       [0., 1.]]))\n"
     ]
    },
    {
     "data": {
      "image/png": "[encoded data removed]",
      "text/plain": [
       "<Figure size 504x504 with 1 Axes>"
      ]
     },
     "metadata": {
      "needs_background": "light"
     },
     "output_type": "display_data"
    }
   ],
   "source": [
    "### START CODE HERE ###\n",
    "# Define transformation matrix A_reflection_yaxis as a numpy array.\n",
    "A_shear_x = np.array([[1,0],[0.5,1]])\n",
    "# Find eigenvalues and eigenvectors or matrix A_reflection_yaxis.\n",
    "A_shear_x_eig = np.linalg.eig(A_reflection_yaxis)\n",
    "### END CODE HERE ###\n",
    "\n",
    "print(\"Matrix A_shear_x:\\n\", A_shear_x, \n",
    "      \"\\n\\n Eigenvalues and eigenvectors of matrix A_shear_x:\\n\", A_shear_x_eig)\n",
    "plot_transformation(A_shear_x, A_shear_x_eig[1][:,0], A_shear_x_eig[1][:,1])"
   ]
  },
  {
   "cell_type": "code",
   "execution_count": 44,
   "metadata": {},
   "outputs": [
    {
     "name": "stdout",
     "output_type": "stream",
     "text": [
      "Wrong matrix A_shear_x.\n",
      "Check the element in the row 1, column 2.\n",
      "Wrong matrix containing eigenvalues in the A_shear_x_eig object. Check that np.linalg.eig function is applied correctly.\n",
      "Wrong matrix containing eigenvectors in the A_shear_x_eig object. Check that np.linalg.eig function is applied correctly.\n",
      "\u001b[92m 4  Tests passed\n",
      "\u001b[91m 3  Tests failed\n"
     ]
    }
   ],
   "source": [
    "# Test your solution.\n",
    "w4_unittest.test_A_shear_x(A_shear_x, A_shear_x_eig)"
   ]
  },
  {
   "cell_type": "markdown",
   "metadata": {},
   "source": [
    "There are two eigenvalues $\\lambda  =1$, that are equal to each other. Thus, shear transformation has only one eigenvector. Here there is no change in the x-direction, and any other vector outside of the $Ox$ line will be sheared, so they cannot be eigenvectors. This is an example of $2 \\times 2$ matrix with only one eigenvector.\n",
    "\n",
    "Now you might have asked yourself, are there any linear transformations in $\\mathbb{R}^2$ with no eigenvectors?"
   ]
  },
  {
   "cell_type": "markdown",
   "metadata": {},
   "source": [
    "<a name='2.3'></a>\n",
    "### 2.3 - Example 3: Rotation\n",
    "\n",
    "Rotation by $90$ degrees clockwise can be defined by matrix $A_{rotation}=\\begin{bmatrix}0 & 1 \\\\ -1 & 0 \\end{bmatrix}$. Find its eigenvalues and eigenvectors:"
   ]
  },
  {
   "cell_type": "code",
   "execution_count": 39,
   "metadata": {
    "tags": [
     "graded"
    ]
   },
   "outputs": [
    {
     "name": "stdout",
     "output_type": "stream",
     "text": [
      "Matrix A_rotation:\n",
      " [[ 0  1]\n",
      " [-1  0]] \n",
      "\n",
      " Eigenvalues and eigenvectors of matrix A_rotation:\n",
      " (array([0.+1.j, 0.-1.j]), array([[0.70710678+0.j        , 0.70710678-0.j        ],\n",
      "       [0.        +0.70710678j, 0.        -0.70710678j]]))\n"
     ]
    }
   ],
   "source": [
    "A_rotation = np.array([[0, 1],[-1, 0]])\n",
    "A_rotation_eig = np.linalg.eig(A_rotation)\n",
    "\n",
    "print(\"Matrix A_rotation:\\n\", A_rotation, \n",
    "      \"\\n\\n Eigenvalues and eigenvectors of matrix A_rotation:\\n\", A_rotation_eig)"
   ]
  },
  {
   "cell_type": "markdown",
   "metadata": {},
   "source": [
    "There are two eigenvalues in the output, but they are actually complex numbers. So, there are no *real* eigenvalues ($\\lambda\\notin\\mathbb{R}$), which means there will be no vectors that will keep their direction with this transformation. This makes sense for the rotation 90 degress, doesn't it?"
   ]
  },
  {
   "cell_type": "markdown",
   "metadata": {},
   "source": [
    "<a name='2.4'></a>\n",
    "### 2.4 - Example 4: Identity Matrix and Scaling in All Directions\n",
    "\n",
    "Now you can investigate some other examples. What if you take identity matrix? This means that there will be no change to any vector in the plane - all of the vectors can be considered as eigenvectors."
   ]
  },
  {
   "cell_type": "code",
   "execution_count": 40,
   "metadata": {
    "tags": [
     "graded"
    ]
   },
   "outputs": [
    {
     "name": "stdout",
     "output_type": "stream",
     "text": [
      "Matrix A_identity:\n",
      " [[1 0]\n",
      " [0 1]] \n",
      "\n",
      " Eigenvalues and eigenvectors of matrix A_identity:\n",
      " (array([1., 1.]), array([[1., 0.],\n",
      "       [0., 1.]]))\n"
     ]
    }
   ],
   "source": [
    "A_identity = np.array([[1, 0],[0, 1]])\n",
    "A_identity_eig = np.linalg.eig(A_identity)\n",
    "\n",
    "print(\"Matrix A_identity:\\n\", A_identity, \n",
    "      \"\\n\\n Eigenvalues and eigenvectors of matrix A_identity:\\n\", A_identity_eig)"
   ]
  },
  {
   "cell_type": "markdown",
   "metadata": {},
   "source": [
    "The out of the `np.linalg.eig()` function shows that there are two eigenvalues that are equal to each other $\\lambda = 1$, which is true. But the list of eigenvectors does not cover all of them. It can be show algebraically that all of the vectors will be eigenvectors for identity matrix. Using software, you can't see it sometimes - be careful! That's why understanding of mathematical objects behind your codes and models is so important.\n",
    "\n",
    "Check that the same will happen finding eigenvectors for the scaling (dilation) in both directions x and y by factor $2$:"
   ]
  },
  {
   "cell_type": "code",
   "execution_count": 41,
   "metadata": {
    "tags": [
     "graded"
    ]
   },
   "outputs": [
    {
     "name": "stdout",
     "output_type": "stream",
     "text": [
      "Matrix A_scaling:\n",
      " [[2 0]\n",
      " [0 2]] \n",
      "\n",
      " Eigenvalues and eigenvectors of matrix A_scaling:\n",
      " (array([2., 2.]), array([[1., 0.],\n",
      "       [0., 1.]]))\n"
     ]
    }
   ],
   "source": [
    "A_scaling = np.array([[2, 0],[0, 2]])\n",
    "A_scaling_eig = np.linalg.eig(A_scaling)\n",
    "\n",
    "print(\"Matrix A_scaling:\\n\", A_scaling, \n",
    "      \"\\n\\n Eigenvalues and eigenvectors of matrix A_scaling:\\n\", A_scaling_eig)"
   ]
  },
  {
   "cell_type": "markdown",
   "metadata": {},
   "source": [
    "<a name='2.5'></a>\n",
    "### 2.5 - Example 5: Projection onto x-axis"
   ]
  },
  {
   "cell_type": "markdown",
   "metadata": {},
   "source": [
    "You can investigate some more interesting examples, e.g. projection onto x-axis $A_{projection}=\\begin{bmatrix}1 & 0 \\\\ 0 & 0 \\end{bmatrix}$ has two real eigenvalues, and one of them is equal to $0$. There is nothing wrong with it, $\\lambda$ can be equal to $0$! The transformation still has two eigenvectors."
   ]
  },
  {
   "cell_type": "code",
   "execution_count": 42,
   "metadata": {
    "tags": [
     "graded"
    ]
   },
   "outputs": [
    {
     "name": "stdout",
     "output_type": "stream",
     "text": [
      "Matrix A_projection:\n",
      " [[1 0]\n",
      " [0 0]] \n",
      "\n",
      " Eigenvalues and eigenvectors of matrix A_projection:\n",
      " (array([1., 0.]), array([[1., 0.],\n",
      "       [0., 1.]]))\n"
     ]
    }
   ],
   "source": [
    "A_projection = np.array([[1, 0],[0, 0]])\n",
    "A_projection_eig = np.linalg.eig(A_projection)\n",
    "\n",
    "print(\"Matrix A_projection:\\n\", A_projection, \n",
    "      \"\\n\\n Eigenvalues and eigenvectors of matrix A_projection:\\n\", A_projection_eig)"
   ]
  },
  {
   "cell_type": "markdown",
   "metadata": {},
   "source": [
    "Now you know how to find eigenvalues and eigenvectors. Let's have a look at one of their applications."
   ]
  },
  {
   "cell_type": "markdown",
   "metadata": {},
   "source": [
    "<a name='3'></a>\n",
    "## 3 - Application of Eigenvalues and Eigenvectors: Navigating Webpages\n",
    "\n",
    "Multiple components describing some structure can be organized as a single vector. If the state of the structure is changing in time due to some process, the vector is referred as a **state vector**. Such dynamic processes are often modeled at discrete times calculating the state vector as a linear transformation of a previous state vector. This model is called a **discrete dynamical system**. \n",
    "\n",
    "Starting with an initial state $X_0$, the transition to the next state $X_1$ is a linear transformation defined with a matrix $P$: $X_1=PX_0$. That leads to $X_2=PX_1=P^2X_0$, $X_3=P^3X_0$, and so on. This implies that $X_t=PX_{t-1}$ for $t=0,1,2,3,\\ldots$.\n",
    "\n",
    "A discrete dynamical system can be used to model browsing web pages. Web pages often contain links to other pages, for simplicity assume that the browser is only following links to a new page rather than navigating to an unlinked one. \n",
    "\n",
    "Let the probabilities that the browser is on a particular page at time $t$ be a state vector $X_t$. Navigation from one page to another advances the model from one state vector $X_{t-1}$ to another state vector $X_t$. A linear transformation, defined by a matrix $P$, will have entries $a_{ij}$ with the probabilities that the browser navigates to page $i$ from page $j$. For fixed column $j$, the entries represent a probability distribution describing location of the browser at the next step. Thus, the entries in each column must add to one."
   ]
  },
  {
   "cell_type": "markdown",
   "metadata": {},
   "source": [
    "<a name='ex03'></a>\n",
    "### Exercise 3\n",
    "\n",
    "Set matrix $P$ for a small number of pages $n=5$. All elements on the main diagonal should be equal to $0$, and the entries in each column must add to one. Here is an example of such a matrix for $n=4$:\n",
    "\n",
    "$$P=\n",
    "\\begin{bmatrix}\n",
    "0 & 0.75 & 0.35 & 0.85 \\\\\n",
    "0.15 & 0 & 0.35 & 0.05 \\\\\n",
    "0.30 & 0.20 & 0 & 0.1 \\\\\n",
    "0.55 & 0.05 & 0.30 & 0\n",
    "\\end{bmatrix}\\tag{5}\n",
    "$$\n",
    "\n",
    "Define vector $X_0$, so the browser starts navigation at page $4$ ($X_0$ is a vector with a single entry equal to one, and all other entries equal to zero). Apply the transformation once: $X_1=PX_0$ to find a vector of the probabilities that the browser is at each of five pages."
   ]
  },
  {
   "cell_type": "code",
   "execution_count": 45,
   "metadata": {
    "tags": [
     "graded"
    ]
   },
   "outputs": [
    {
     "name": "stdout",
     "output_type": "stream",
     "text": [
      "[1 1 1 1 1]\n"
     ]
    }
   ],
   "source": [
    "### START CODE HERE ###\n",
    "P = np.array([    \n",
    "    [0, 0, 0, 0, 0],\n",
    "    [1, 0, 0, 0, 1],\n",
    "    [0, 1, 0, 0, 0],\n",
    "    [0, 0, 1, 0, 0],\n",
    "    [0, 0, 0, 1, 0]\n",
    "]) \n",
    "X0 = np.array([[0], [0], [0], [0], [1]])\n",
    "# Multiply matrix P and X_0 (matrix multiplication).\n",
    "X1 = P @ X0\n",
    "\n",
    "### END CODE HERE ###\n",
    "print(sum(P))"
   ]
  },
  {
   "cell_type": "markdown",
   "metadata": {},
   "source": [
    "##### __Expected Output__\n",
    "\n",
    "```Python\n",
    "[1. 1. 1. 1. 1.]\n",
    "```"
   ]
  },
  {
   "cell_type": "code",
   "execution_count": 46,
   "metadata": {},
   "outputs": [
    {
     "name": "stdout",
     "output_type": "stream",
     "text": [
      "Wrong array X0.\n",
      "Check element 4 in the vector X0.\n",
      "\u001b[92m 6  Tests passed\n",
      "\u001b[91m 1  Tests failed\n"
     ]
    }
   ],
   "source": [
    "# Test your solution.\n",
    "w4_unittest.test_matrix(P, X0, X1)"
   ]
  },
  {
   "cell_type": "markdown",
   "metadata": {},
   "source": [
    "Applying the transformation $m$ times you can find a vector $X_m$ with the probabilities of the browser being at each of the pages after $m$ steps of navigation."
   ]
  },
  {
   "cell_type": "code",
   "execution_count": 47,
   "metadata": {
    "tags": [
     "graded"
    ]
   },
   "outputs": [
    {
     "name": "stdout",
     "output_type": "stream",
     "text": [
      "[[0]\n",
      " [0]\n",
      " [0]\n",
      " [1]\n",
      " [0]]\n"
     ]
    }
   ],
   "source": [
    "X = np.array([[0],[0],[0],[1],[0]])\n",
    "m = 20\n",
    "\n",
    "for t in range(m):\n",
    "    X = P @ X\n",
    "    \n",
    "print(X)"
   ]
  },
  {
   "cell_type": "markdown",
   "metadata": {},
   "source": [
    "It is interesting to predict the probabilities in $X_m$ when $m$ is large, and thus determining what pages a browser are more likely to visit after this sort of random navigation. To do that you have to apply the transformation many times, and in real life problems this will be computationally expensive. Eigenvalues and eigenvectos can help here significantly reducing the amount of calculations. "
   ]
  },
  {
   "cell_type": "markdown",
   "metadata": {},
   "source": [
    "Try to find eigenvalues and eigenvectors for the previously defined matrix $P$:"
   ]
  },
  {
   "cell_type": "code",
   "execution_count": 48,
   "metadata": {
    "tags": [
     "graded"
    ]
   },
   "outputs": [
    {
     "data": {
      "text/plain": [
       "(array([-1.00000000e+00+0.j,  5.55111512e-17+1.j,  5.55111512e-17-1.j,\n",
       "         1.00000000e+00+0.j,  0.00000000e+00+0.j]),\n",
       " array([[ 0.00000000e+00+0.0000000e+00j,  0.00000000e+00+0.0000000e+00j,\n",
       "          0.00000000e+00-0.0000000e+00j,  0.00000000e+00+0.0000000e+00j,\n",
       "          7.07106781e-01+0.0000000e+00j],\n",
       "        [ 5.00000000e-01+0.0000000e+00j, -6.24500451e-17-5.0000000e-01j,\n",
       "         -6.24500451e-17+5.0000000e-01j, -5.00000000e-01+0.0000000e+00j,\n",
       "          2.15887713e-16+0.0000000e+00j],\n",
       "        [-5.00000000e-01+0.0000000e+00j, -5.00000000e-01-6.9388939e-17j,\n",
       "         -5.00000000e-01+6.9388939e-17j, -5.00000000e-01+0.0000000e+00j,\n",
       "         -2.94392336e-16+0.0000000e+00j],\n",
       "        [ 5.00000000e-01+0.0000000e+00j, -2.01227923e-16+5.0000000e-01j,\n",
       "         -2.01227923e-16-5.0000000e-01j, -5.00000000e-01+0.0000000e+00j,\n",
       "          2.74766180e-16+0.0000000e+00j],\n",
       "        [-5.00000000e-01+0.0000000e+00j,  5.00000000e-01+0.0000000e+00j,\n",
       "          5.00000000e-01-0.0000000e+00j, -5.00000000e-01+0.0000000e+00j,\n",
       "         -7.07106781e-01+0.0000000e+00j]]))"
      ]
     },
     "execution_count": 48,
     "metadata": {},
     "output_type": "execute_result"
    }
   ],
   "source": [
    "np.linalg.eig(P)"
   ]
  },
  {
   "cell_type": "markdown",
   "metadata": {},
   "source": [
    "A square matrix is called a **Markov matrix** if all entries are nonnegative and the sum of each column elements is equal to $1$. Markov matrices have a handy property - they always have an eigenvalue equals to 1. \n",
    "\n",
    "Matrix $P$ was defined in such a way, that it is actually a Markov matrix, and you can see that it has an eigenvalue $1$. The equation $X_m=PX_{m-1}$ can be rewritten as $PX_{m-1}=1\\times X_m$. Predicting probabilities in $X_m$ when $m$ is large you can actually look for an eigenvector corresponding to the eigenvalue $1$, because then you will get $PX = X$."
   ]
  },
  {
   "cell_type": "code",
   "execution_count": 49,
   "metadata": {
    "tags": [
     "graded"
    ]
   },
   "outputs": [
    {
     "name": "stdout",
     "output_type": "stream",
     "text": [
      "Eigenvector corresponding to the eigenvalue 1:\n",
      "[ 0. +0.j  0.5+0.j -0.5+0.j  0.5+0.j -0.5+0.j]\n"
     ]
    }
   ],
   "source": [
    "X_inf = np.linalg.eig(P)[1][:,0]\n",
    "\n",
    "print(\"Eigenvector corresponding to the eigenvalue 1:\\n\" + str(X_inf))"
   ]
  },
  {
   "cell_type": "markdown",
   "metadata": {},
   "source": [
    "<a name='ex04'></a>\n",
    "### Exercise 4\n",
    "\n",
    "Perform matrix multiplication $PX$ (multiply matrix `P` and vector `X_inf`) to check that the result will be equal to the vector $X$ (`X_inf`)."
   ]
  },
  {
   "cell_type": "code",
   "execution_count": 50,
   "metadata": {
    "tags": [
     "graded"
    ]
   },
   "outputs": [
    {
     "name": "stdout",
     "output_type": "stream",
     "text": [
      "Original eigenvector corresponding to the eigenvalue 1:\n",
      "[ 0. +0.j  0.5+0.j -0.5+0.j  0.5+0.j -0.5+0.j]\n",
      "Result of multiplication:[ 0. +0.j -0.5+0.j  0.5+0.j -0.5+0.j  0.5+0.j]\n",
      "Check that PX=X element by element:[ True False False False False]\n"
     ]
    }
   ],
   "source": [
    "# This is organised as a function only for grading purposes.\n",
    "def check_eigenvector(P, X_inf):\n",
    "    ### START CODE HERE ###\n",
    "    X_check = P @ X_inf\n",
    "    ### END CODE HERE ###\n",
    "    \n",
    "    return X_check\n",
    "\n",
    "X_check = check_eigenvector(P, X_inf)\n",
    "\n",
    "print(\"Original eigenvector corresponding to the eigenvalue 1:\\n\" + str(X_inf))\n",
    "print(\"Result of multiplication:\" + str(X_check))\n",
    "\n",
    "# Function np.isclose compares two NumPy arrays element by element, allowing for error tolerance (rtol parameter).\n",
    "print(\"Check that PX=X element by element:\" +str(np.isclose(X_inf, X_check, rtol=1e-10)))"
   ]
  },
  {
   "cell_type": "code",
   "execution_count": 51,
   "metadata": {},
   "outputs": [
    {
     "name": "stdout",
     "output_type": "stream",
     "text": [
      "\u001b[92m All tests passed\n"
     ]
    }
   ],
   "source": [
    "# Test your solution.\n",
    "w4_unittest.test_check_eigenvector(check_eigenvector)"
   ]
  },
  {
   "cell_type": "markdown",
   "metadata": {},
   "source": [
    "The output eigenvectors of the `np.linalg.eig()` function are normalized so that their norm is $1$. For the vector $X$ you would like to choose a vector in the same direction, so that the sum of its elements is equal to $1$:"
   ]
  },
  {
   "cell_type": "code",
   "execution_count": 52,
   "metadata": {
    "tags": [
     "graded"
    ]
   },
   "outputs": [
    {
     "name": "stdout",
     "output_type": "stream",
     "text": [
      "Probabilities being at each of the pages:\n",
      "[-0.00000000e+00-0.j -4.50359963e+15-0.j  4.50359963e+15-0.j\n",
      " -4.50359963e+15-0.j  4.50359963e+15-0.j]\n"
     ]
    }
   ],
   "source": [
    "X_inf = X_inf / sum(X_inf)\n",
    "\n",
    "print(\"Probabilities being at each of the pages:\\n\" + str(X_inf))"
   ]
  },
  {
   "cell_type": "markdown",
   "metadata": {},
   "source": [
    "You can see the probabilities of the browser being at each of the pages after infinite steps of navigation. Such type of a model was the foundation of the PageRank algorithm, which is the basis of Google's very successful search engine."
   ]
  },
  {
   "cell_type": "markdown",
   "metadata": {},
   "source": [
    "Congratulations! You have finished the assignment in this week."
   ]
  },
  {
   "cell_type": "code",
   "execution_count": null,
   "metadata": {
    "tags": [
     "graded"
    ]
   },
   "outputs": [],
   "source": []
  }
 ],
 "metadata": {
  "accelerator": "GPU",
  "colab": {
   "collapsed_sections": [],
   "name": "C1_W1_Assignment_Solution.ipynb",
   "provenance": []
  },
  "coursera": {
   "schema_names": [
    "AI4MC1-1"
   ]
  },
  "grader_version": "2",
  "kernelspec": {
   "display_name": "Python 3",
   "language": "python",
   "name": "python3"
  },
  "language_info": {
   "codemirror_mode": {
    "name": "ipython",
    "version": 3
   },
   "file_extension": ".py",
   "mimetype": "text/x-python",
   "name": "python",
   "nbconvert_exporter": "python",
   "pygments_lexer": "ipython3",
   "version": "3.8.8"
  },
  "toc": {
   "base_numbering": 1,
   "nav_menu": {},
   "number_sections": true,
   "sideBar": true,
   "skip_h1_title": false,
   "title_cell": "Table of Contents",
   "title_sidebar": "Contents",
   "toc_cell": false,
   "toc_position": {},
   "toc_section_display": true,
   "toc_window_display": false
  },
  "vscode": {
   "interpreter": {
    "hash": "478841ab876a4250505273c8a697bbc1b6b194054b009c227dc606f17fb56272"
   }
  }
 },
 "nbformat": 4,
 "nbformat_minor": 1
}
